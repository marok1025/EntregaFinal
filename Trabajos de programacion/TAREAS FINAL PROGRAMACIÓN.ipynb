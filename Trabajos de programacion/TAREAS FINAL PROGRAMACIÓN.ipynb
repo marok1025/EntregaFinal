{
 "cells": [
  {
   "cell_type": "markdown",
   "metadata": {},
   "source": [
    "   # # TAREAS FUNDAMENTOS DE PROGRAMACIÓN 1 #     "
   ]
  },
  {
   "cell_type": "markdown",
   "metadata": {},
   "source": [
    "$$ tarea 1 $$"
   ]
  },
  {
   "cell_type": "code",
   "execution_count": 2,
   "metadata": {},
   "outputs": [
    {
     "name": "stdout",
     "output_type": "stream",
     "text": [
      "['L', 'f', 'g', 's', 'D', 'e', '%', '4', '%', '/', 's']\n"
     ]
    }
   ],
   "source": [
    "def cadena(caracteres) :\n",
    "    largo = len(caracteres)\n",
    "    k = 1\n",
    "    copia = caracteres\n",
    "    copia = list(copia)\n",
    "    for letra in caracteres :\n",
    "        if letra.isalpha() :\n",
    "            copia[largo-k] = caracteres[k-1]\n",
    "        else:\n",
    "                copia[k-1] = letra\n",
    "        k +=1\n",
    "    return print (str(copia))\n",
    "cadena(\"sfgsDe%4%/L\")"
   ]
  },
  {
   "cell_type": "code",
   "execution_count": 3,
   "metadata": {},
   "outputs": [
    {
     "name": "stdout",
     "output_type": "stream",
     "text": [
      "ingrese las letras:AbcDefG\n",
      "aBCdEFg\n",
      "['AbcDefG']\n"
     ]
    }
   ],
   "source": [
    "a = input(\"ingrese las letras:\")\n",
    "print(a.swapcase())\n",
    "my_list = [a]\n",
    "my_list.sort()\n",
    "print(my_list)"
   ]
  },
  {
   "cell_type": "code",
   "execution_count": 5,
   "metadata": {},
   "outputs": [
    {
     "name": "stdout",
     "output_type": "stream",
     "text": [
      "ingrese las letras :eBda\n",
      "EbDA\n"
     ]
    },
    {
     "data": {
      "text/plain": [
       "['B', 'a', 'd', 'e']"
      ]
     },
     "execution_count": 5,
     "metadata": {},
     "output_type": "execute_result"
    }
   ],
   "source": [
    "a = input(\"ingrese las letras :\")\n",
    "print(a.swapcase())\n",
    "sorted(a)"
   ]
  },
  {
   "cell_type": "markdown",
   "metadata": {},
   "source": [
    "$$    tarea- 2 -sitios- web $$"
   ]
  },
  {
   "cell_type": "code",
   "execution_count": 30,
   "metadata": {},
   "outputs": [
    {
     "name": "stdout",
     "output_type": "stream",
     "text": [
      "{'Host': 'facebook.com', 'IP': '31.13.67.35', 'Server': 'unknown', 'Content-Encoding': 'gzip', 'Content-Type': 'text/html; charset=\"utf-8\"'}\n",
      "{'Host': 'facebook.com', 'IP': '31.13.67.35', 'Server': 'unknown', 'Content-Encoding': 'gzip', 'Content-Type': 'text/html; charset=\"utf-8\"'}\n"
     ]
    }
   ],
   "source": [
    "import socket\n",
    "import requests\n",
    "\n",
    "def obtenerDatosWebBasicos(host) :\n",
    "    url = \"http://\" + host \n",
    "    ip = socket.gethostbyname(host)\n",
    "    response = requests.get(url)\n",
    "    if \"server\" in response.headers: \n",
    "        server = response.headers[\"server\"]\n",
    "    else:\n",
    "        server = \"unknown\"\n",
    "    \n",
    "    if \"Content-Encoding\" in response.headers:\n",
    "        contentEncoding = response.headers[\"content-encoding\"]\n",
    "    else:\n",
    "        contentEncoding = \"unknown\"\n",
    "    if \"Content-Type\" in response.headers:\n",
    "        contentType = response.headers[\"content-type\"] \n",
    "    else:\n",
    "        contentType = \"unknown\"\n",
    "\n",
    "\n",
    "    out = {\n",
    "        \"Host\" : host, \n",
    "        \"IP\" : ip, \n",
    "        \"Server\" : server, \n",
    "        \"Content-Encoding\" : contentEncoding, \n",
    "        \"Content-Type\" : contentType\n",
    "    }\n",
    "    return out\n",
    "import socket\n",
    "import requests\n",
    "\n",
    "def obtenerDatosWebBasicos(host) :\n",
    "    url = \"http://\" + host \n",
    "    ip = socket.gethostbyname(host)\n",
    "    response = requests.get(url)\n",
    "    if \"server\" in response.headers: \n",
    "        server = response.headers[\"server\"]\n",
    "    else:\n",
    "        server = \"unknown\"\n",
    "    \n",
    "    if \"Content-Encoding\" in response.headers:\n",
    "        contentEncoding = response.headers[\"content-encoding\"]\n",
    "    else:\n",
    "        contentEncoding = \"unknown\"\n",
    "    if \"Content-Type\" in response.headers:\n",
    "        contentType = response.headers[\"content-type\"] \n",
    "    else:\n",
    "        contentType = \"unknown\"\n",
    "\n",
    "\n",
    "    out = {\n",
    "        \"Host\" : host, \n",
    "        \"IP\" : ip, \n",
    "        \"Server\" : server, \n",
    "        \"Content-Encoding\" : contentEncoding, \n",
    "        \"Content-Type\" : contentType\n",
    "    }\n",
    "    return out\n",
    "\n",
    "def guardarDatosWebEnArchivo(diccionario, direccionArchivo) :\n",
    "    file = open(direccionArchivo, \"a\")\n",
    "    file.write(\"Host: %s\\n\" % (diccionario[\"Host\"]) )\n",
    "    file.write(\"IP: %s\\n\" % (diccionario[\"IP\"]))\n",
    "    file.write(\"Server: %s\\n\" % (diccionario[\"Server\"]))\n",
    "    file.write(\"Content-Encoding: %s\\n\" % (diccionario[\"Content-Encoding\"]))\n",
    "    file.write(\"Content-Type: %s\\n\\n\" % (diccionario[\"Content-Type\"]))\n",
    "    file.close()\n",
    "\n",
    "\n",
    "r = obtenerDatosWebBasicos(\"youtube.com\")\n",
    "guardarDatosWebEnArchivo(r,\"archivodatos.txt\")\n",
    "\n",
    "r = obtenerDatosWebBasicos(\"gmail.com\")\n",
    "guardarDatosWebEnArchivo(r,\"archivodatos.txt\")\n",
    "\n",
    "r = obtenerDatosWebBasicos(\"facebook.com\")\n",
    "guardarDatosWebEnArchivo(r,\"archivodatos.txt\")\n",
    "\n",
    "print (r)\n",
    "def guardarDatosWebEnArchivo(diccionario, direccionArchivo) :\n",
    "    file = open(direccionArchivo, \"a\")\n",
    "    file.write(\"Host: %s\\n\" % (diccionario[\"Host\"]) )\n",
    "    file.write(\"IP: %s\\n\" % (diccionario[\"IP\"]))\n",
    "    file.write(\"Server: %s\\n\" % (diccionario[\"Server\"]))\n",
    "    file.write(\"Content-Encoding: %s\\n\" % (diccionario[\"Content-Encoding\"]))\n",
    "    file.write(\"Content-Type: %s\\n\\n\" % (diccionario[\"Content-Type\"]))\n",
    "    file.close()\n",
    "\n",
    "\n",
    "r = obtenerDatosWebBasicos(\"youtube.com\")\n",
    "guardarDatosWebEnArchivo(r,\"archivodatos.txt\")\n",
    "\n",
    "r = obtenerDatosWebBasicos(\"gmail.com\")\n",
    "guardarDatosWebEnArchivo(r,\"archivodatos.txt\")\n",
    "\n",
    "r = obtenerDatosWebBasicos(\"facebook.com\")\n",
    "guardarDatosWebEnArchivo(r,\"archivodatos.txt\")\n",
    "\n",
    "print (r)"
   ]
  },
  {
   "cell_type": "markdown",
   "metadata": {},
   "source": [
    "$$ tarea-3-imagen-lenna$$"
   ]
  },
  {
   "cell_type": "code",
   "execution_count": 4,
   "metadata": {},
   "outputs": [
    {
     "name": "stdout",
     "output_type": "stream",
     "text": [
      "(512, 512)\n",
      "512 512\n",
      "[[0 0 0]\n",
      " [0 0 0]\n",
      " [0 0 0]]\n"
     ]
    },
    {
     "name": "stderr",
     "output_type": "stream",
     "text": [
      "C:\\ProgramData\\Anaconda3\\lib\\site-packages\\ipykernel_launcher.py:55: RuntimeWarning: invalid value encountered in greater\n"
     ]
    },
    {
     "data": {
      "image/png": "[encoded data removed]",
      "text/plain": [
       "<Figure size 432x288 with 1 Axes>"
      ]
     },
     "metadata": {
      "needs_background": "light"
     },
     "output_type": "display_data"
    },
    {
     "data": {
      "image/png": "[encoded data removed]",
      "text/plain": [
       "<Figure size 432x288 with 1 Axes>"
      ]
     },
     "metadata": {
      "needs_background": "light"
     },
     "output_type": "display_data"
    },
    {
     "data": {
      "image/png": "[encoded data removed]",
      "text/plain": [
       "<Figure size 432x288 with 1 Axes>"
      ]
     },
     "metadata": {
      "needs_background": "light"
     },
     "output_type": "display_data"
    },
    {
     "data": {
      "image/png": "[encoded data removed]",
      "text/plain": [
       "<Figure size 432x288 with 1 Axes>"
      ]
     },
     "metadata": {
      "needs_background": "light"
     },
     "output_type": "display_data"
    },
    {
     "data": {
      "text/plain": [
       "<Figure size 432x288 with 0 Axes>"
      ]
     },
     "metadata": {},
     "output_type": "display_data"
    }
   ],
   "source": [
    "import numpy as np \n",
    "import matplotlib.pyplot as ppt\n",
    "import matplotlib.image as img # no debe ir modificar\n",
    "import PIL # no va \n",
    "\n",
    "imagen = img.imread(\"C:\\Lenna_(test_image).png\") #cargar imagen\n",
    "\n",
    "imagen2D = np.array((imagen[:,:,0])) # pasar la imagen a dos dimensiones\n",
    "ppt.imshow(imagen) #mostrar la imagen\n",
    "ppt.title(\"Original\")\n",
    "ppt.figure() #crear una nueva figura\n",
    "ppt.imshow(imagen2D, cmap = ppt.cm.gray) # mostrar la imagen en escala de grises # no se debe\n",
    "\n",
    "print (np.shape(imagen2D)) #imprime las dimensiones de imagen2D\n",
    "\n",
    "Largo = np.full((15,3),0)\n",
    "Alto = np.full((3,15),0)\n",
    "pequeña = np.full((3,3),0)\n",
    "\n",
    "m,n = np.shape(imagen2D)\n",
    "\n",
    "bordes_horizontales = np.full((m,n),0)\n",
    "bordes_verticales = np.full((m,n),0)\n",
    "\n",
    "offset_ancho = 7\n",
    "offset_alto = 1\n",
    "\n",
    "print(m,n)\n",
    "print(pequeña)\n",
    "\n",
    "for row in range (offset_alto,m):\n",
    "    for col in range (offset_ancho,n-offset_ancho+1):\n",
    "        W_ancho = imagen2D[row-offset_alto:row+offset_alto, col-offset_ancho:col+offset_ancho]\n",
    "        W_pequeña = imagen2D[row-offset_alto:row+offset_alto, col-offset_alto:col+offset_alto]\n",
    "        media1 = np.mean(W_ancho)\n",
    "        media2 = np.mean(W_pequeña)\n",
    "        result = media1/media2\n",
    "        if result > 1.30:\n",
    "            bordes_horizontales [row,col] = 1\n",
    "        else:\n",
    "            bordes_horizontales [row,col] = 0\n",
    "\n",
    "ppt.imshow(bordes_horizontales, cmap=ppt.cm.gray)\n",
    "ppt.title(\"Horizonal\")\n",
    "ppt.figure()\n",
    "\n",
    "\n",
    "for row in range (offset_ancho,m):\n",
    "    for col in range (offset_alto,n-offset_alto+1):\n",
    "        W_ancho = imagen2D[row-offset_ancho:row+offset_ancho, col-offset_alto:col+offset_alto]\n",
    "        W_pequeña = imagen2D[row-offset_ancho:row+offset_alto, col-offset_ancho:col+offset_ancho]\n",
    "        media1 = np.mean(W_ancho)\n",
    "        media2 = np.mean(W_pequeña)\n",
    "        result = media1/media2\n",
    "        if result > 1.60:\n",
    "            bordes_verticales [row,col] = 1\n",
    "        else:\n",
    "            bordes_verticales [row,col] = 0\n",
    "\n",
    "ppt.imshow(bordes_verticales, cmap=ppt.cm.gray)\n",
    "ppt.title(\"Vertical\")\n",
    "ppt.figure()\n",
    "\n",
    "#bordes_horizontales= np.logical_not(bordes_horizontales)\n",
    "#bordes_verticales = np.logical_not(bordes_verticales)\n",
    "\n",
    "nuevo = np.logical_or(bordes_horizontales,bordes_verticales)\n",
    "ppt.imshow(nuevo)\n",
    "nuevo = np.logical_not (nuevo)\n",
    "ppt.imshow(nuevo,cmap=ppt.cm.gray)\n",
    "\n",
    "ppt.title(\"Suma\")\n",
    "ppt.figure()\n",
    "\n",
    "\n",
    "ppt.show()"
   ]
  },
  {
   "cell_type": "markdown",
   "metadata": {},
   "source": [
    "$$ valores·propios·y·vectores·propios $$"
   ]
  },
  {
   "cell_type": "code",
   "execution_count": 5,
   "metadata": {},
   "outputs": [
    {
     "name": "stdout",
     "output_type": "stream",
     "text": [
      "[ 7.35338292+0.j         -0.67669146+0.70287373j -0.67669146-0.70287373j]\n",
      "[[-0.54061344+0.j         -0.80821236+0.j         -0.80821236-0.j        ]\n",
      " [-0.55079981+0.j         -0.38494602-0.38859894j -0.38494602+0.38859894j]\n",
      " [-0.63589046+0.j          0.02503559-0.21673351j  0.02503559+0.21673351j]]\n"
     ]
    }
   ],
   "source": [
    "import numpy as np\n",
    "from numpy import linalg as LA\n",
    "\n",
    "A = np.array([[1,-3,8] , [2,-5,9] , [3,-6,10]])\n",
    "w, v = LA.eig(A)\n",
    "print (w)\n",
    "\n",
    "print (v)\n"
   ]
  },
  {
   "cell_type": "code",
   "execution_count": 6,
   "metadata": {},
   "outputs": [
    {
     "name": "stdout",
     "output_type": "stream",
     "text": [
      "[-0.80821236+0.j         -0.38494602-0.38859894j  0.02503559-0.21673351j]\n"
     ]
    }
   ],
   "source": [
    "u = v[:,1]#el valor propio,w0 va con la columna 0 de -v-,el de w1 va con la columna 1,asi sucesivamente para extarer el vector \n",
    "print(u)# usamos u = v[:,i]"
   ]
  },
  {
   "cell_type": "code",
   "execution_count": 7,
   "metadata": {},
   "outputs": [
    {
     "name": "stdout",
     "output_type": "stream",
     "text": [
      "[0.5469104 -0.56807124j 0.53362567-0.00760686j 0.13539492+0.16425857j]\n"
     ]
    }
   ],
   "source": [
    "print(np.dot(A,u))"
   ]
  },
  {
   "cell_type": "code",
   "execution_count": 11,
   "metadata": {},
   "outputs": [
    {
     "name": "stdout",
     "output_type": "stream",
     "text": [
      "[[0.4969705 ]\n",
      " [0.51506102]\n",
      " [0.69837845]]\n",
      "[[0.49697025+0.j         0.43493752-0.35640714j 0.43493752+0.35640714j]\n",
      " [0.5150614 +0.j         0.78299851+0.j         0.78299851-0.j        ]\n",
      " [0.69837835+0.j         0.20206259+0.17287957j 0.20206259-0.17287957j]]\n"
     ]
    }
   ],
   "source": [
    "#otra forma de vectores propios\n",
    "import numpy as np\n",
    "from numpy import linalg as LA\n",
    "\n",
    "A = np.matrix([[1,-3,8] , [2,-5,9] , [5,-6,10]])\n",
    "X0 = np.matrix([1,1,1]).T\n",
    "iterations = 3\n",
    "\n",
    "for i in range (iterations):\n",
    "    A = A*A\n",
    "\n",
    "x = A*X0\n",
    "norm = LA.norm(x)\n",
    "print (x/norm)\n",
    "print (LA.eig(A)[1])"
   ]
  },
  {
   "cell_type": "markdown",
   "metadata": {},
   "source": [
    "                                               .vectores propio ."
   ]
  },
  {
   "cell_type": "code",
   "execution_count": 28,
   "metadata": {},
   "outputs": [
    {
     "name": "stdout",
     "output_type": "stream",
     "text": [
      "\n",
      "EJEMPLO 1: EJEMPLO DEL DOCUMENTO: \n",
      "Matriz A: \n",
      "[[  0  11  -5]\n",
      " [ -2  17  -7]\n",
      " [ -4  26 -10]]\n",
      "\n",
      "Iteraciones:  15\n",
      "Eigenvalor dominante con función propia:  4.0000976610186\n",
      "Eigenvector dominante con función propia:  [0.4 0.6 1. ]\n",
      "Eigenvalor dominante con librería:  4.000000000000021\n",
      "Eigenvector dominante con librería:  [0.4 0.6 1. ]\n",
      "\n",
      "Ejemplo 2: MATRIZ DEL ENUNCIADO: \n",
      "Matriz D: \n",
      "[[ 1 -3  8]\n",
      " [ 2 -5  9]\n",
      " [ 3 -6 10]]\n",
      "\n",
      "Iteraciones:  15\n",
      "Eigenvalor dominante con función propia:  7.353382915684954\n",
      "Eigenvector dominante con función propia:  [0.85 0.87 1.  ]\n",
      "Eigenvalor dominante con librería:  (7.353382915684794+0j)\n",
      "Eigenvector dominante con librería:  [0.85+0.j 0.87+0.j 1.  +0.j]\n",
      "\n",
      "Conclusión: Hay Correspondencia entre Método de la Potencia y Método Real\n",
      "\n"
     ]
    }
   ],
   "source": [
    "# para implementar ese algoritmo en Python. Utilizando su función encuentre el\n",
    "# valor propio de la matriz: \n",
    "# D = [ [1, -3, 8], [2, -5, 9], [3, -6, 10]]\n",
    "import numpy as np\n",
    "# entradas\n",
    "D = [ [1, -3, 8], [2, -5, 9], [3, -6, 10] ]\n",
    "A = [ [0, 11, -5], [-2, 17, -7], [-4, 26, -10] ]\n",
    "\n",
    "def normalizar(vector):\n",
    "    # Calcular valor  de mayor magnitud\n",
    "    mayor = np.amax(vector)\n",
    "    menor = np.amin(vector)\n",
    "    if (abs(mayor) >= abs(menor)): mayorMagnitud = mayor\n",
    "    else: mayorMagnitud = menor\n",
    "    \n",
    "    vector = vector * (1 / mayorMagnitud)\n",
    "    return (mayor, vector)\n",
    "\n",
    "# calculo eigenvalor y eigenvector dominantes \n",
    "def eigenDominantes(lista, iteraciones):\n",
    "    # Transformar lista de entrada\n",
    "    matriz = np.array(lista)\n",
    "\n",
    "    if (matriz.shape[0] != matriz.shape[1]): \n",
    "        return (None, None)\n",
    "    \n",
    "    tamagno = matriz.shape[0]\n",
    "    # Inicia eigenvector con 1s\n",
    "    eigenVector = np.ones((tamagno))\n",
    "    for i in range(iteraciones):\n",
    "        producto = np.dot(matriz, eigenVector)\n",
    "        factor, eigenVector = normalizar(producto)\n",
    "    return (factor, eigenVector)\n",
    "\n",
    "# aqui se selecciona y normaliza el eigenvalor y eigenvector dominante\n",
    "def eigenDominantesLibreria(eigenValores, eigenVectores):\n",
    "    indiceMayor = np.absolute(eigenValores.argmax())\n",
    "    eigenValorDominante = eigenValores[indiceMayor]\n",
    "    \n",
    "    eigenVector = eigenVectores[:, indiceMayor]\n",
    "    \n",
    "    _, eigenVectorDominante = normalizar(eigenVector)\n",
    "\n",
    "    return (eigenValorDominante, eigenVectorDominante)\n",
    "    \n",
    "def resultados(lista, iteraciones = 15):\n",
    "    eigenValor, eigenVector = eigenDominantes(lista, iteraciones)\n",
    "    print('Iteraciones: ', iteraciones)\n",
    "    print('Eigenvalor dominante con función propia: ', eigenValor)\n",
    "    print('Eigenvector dominante con función propia: ', eigenVector)\n",
    "\n",
    "    eigenValores, eigenVectores = np.linalg.eig(np.array(lista))\n",
    "    eigenValor, eigenVector = eigenDominantesLibreria(eigenValores, eigenVectores)\n",
    "    print('Eigenvalor dominante con librería: ', eigenValor)\n",
    "    print('Eigenvector dominante con librería: ', eigenVector)\n",
    "    print()\n",
    "    \n",
    "# Ejemplo 1: Matriz del Documento\n",
    "print()\n",
    "print('EJEMPLO 1: EJEMPLO DEL DOCUMENTO: ')\n",
    "print('Matriz A: ')\n",
    "print(np.array(A))\n",
    "print()\n",
    "resultados(A)\n",
    "\n",
    "# Ejemplo 2: Matriz del Enunciado\n",
    "print('Ejemplo 2: MATRIZ DEL ENUNCIADO: ')\n",
    "print('Matriz D: ')\n",
    "print(np.array(D))\n",
    "print()\n",
    "resultados(D)\n",
    "print('Conclusión: Hay Correspondencia entre Método de la Potencia y Método Real')\n",
    "print()\n"
   ]
  },
  {
   "cell_type": "markdown",
   "metadata": {},
   "source": [
    "                            . convolución unidimensional entre los siguientes polinomios."
   ]
  },
  {
   "cell_type": "code",
   "execution_count": 36,
   "metadata": {},
   "outputs": [
    {
     "name": "stdout",
     "output_type": "stream",
     "text": [
      "Polinomio p(x): [2 3 6 7]\n",
      "Polinomio h(x): [1 2]\n",
      "\n",
      "convolución con librería estándar:\n",
      "[ 2  7 12 19 14]\n",
      "convolución con función propia:\n",
      "[ 2  7 12 19 14]\n"
     ]
    }
   ],
   "source": [
    "# p(x) = 2x^3 + 3x^2 + 6x + 7\n",
    "# h(x) = x + 2\n",
    "import numpy as np\n",
    "# Entrada\n",
    "p = np.array( [2, 3, 6, 7])\n",
    "h = np.array([1, 2])\n",
    "\n",
    "def insertarArreglo(arreglo, tamagno, posInicial = 0, constante = 0):\n",
    "    arregloConstantes = np.full((tamagno), constante)\n",
    "    posFinal = posInicial + arreglo.size\n",
    "    arregloConstantes[posInicial:posFinal] = np.copy(arreglo)\n",
    "    \n",
    "    return arregloConstantes\n",
    "def convolucion(arreglo1, arreglo2):\n",
    "    totalPosiciones = arreglo1.size + 2 * (arreglo2.size - 1)\n",
    "    \n",
    "    arregloSuperior = np.copy(arreglo1)\n",
    "    posicionInsercion = arreglo2.size - 1\n",
    "    arregloSuperior = insertarArreglo(arregloSuperior, totalPosiciones, posicionInsercion)\n",
    "\n",
    "    arreglo2Base = np.flipud(np.copy(arreglo2)) # Invertir arreglo\n",
    "    \n",
    "    arregloCoeficientes = np.full((totalPosiciones - 1), 0)\n",
    "    \n",
    "    for i in range(totalPosiciones - 1):\n",
    "        arregloInferior = insertarArreglo(arreglo2Base, totalPosiciones, i)\n",
    "        coeficiente = np.dot(arregloSuperior, arregloInferior)\n",
    "        arregloCoeficientes[i] = coeficiente\n",
    "    return arregloCoeficientes\n",
    "# Parámetros de entrada\n",
    "print('Polinomio p(x):', p)\n",
    "print('Polinomio h(x):', h)    \n",
    "print()\n",
    "\n",
    "# Convolución con librería estándar\n",
    "print('convolución con librería estándar:')\n",
    "print(np.convolve(p, h))\n",
    "\n",
    "# Convolución con función propia\n",
    "print('convolución con función propia:')\n",
    "print(convolucion(p, h))\n",
    "    "
   ]
  },
  {
   "cell_type": "markdown",
   "metadata": {},
   "source": [
    "$$ ejercicios·SciPy.Optimize $$"
   ]
  },
  {
   "cell_type": "code",
   "execution_count": 8,
   "metadata": {},
   "outputs": [
    {
     "name": "stdout",
     "output_type": "stream",
     "text": [
      "16\n"
     ]
    }
   ],
   "source": [
    "# ejercicio numero 1.\n",
    "# Minimizar: f = -(2*x1*x2 + 2*x1 - x1^2 - 2*x2^2)\n",
    "# Restricciones:\n",
    "# 1) x1^3 - x2 = 0\n",
    "# 2) x2 - (x1 - 1)^4 - 2 >= 0\n",
    "# Límites x1: 0.5 <= x1 <= 1.5\n",
    "# Límites x2: 1.5 <= x2 <= 2.5\n",
    "# Semilla inicial: (0, 2.5)\n",
    "import numpy as np\n",
    "from scipy.optimize import minimize\n",
    "def objective(x):\n",
    "    x1 = x[0]\n",
    "    x2 = x[1]\n",
    "    x3 = x[2]\n",
    "    x4 = x[3]\n",
    "    return x1*x4*(x1+x2+x3)+x3\n",
    "def constraint1 (x):\n",
    "    return x[0]*x[1]*x[2]*x[3]-25.0\n",
    "def constraint2 (x):\n",
    "    sum_sq = 40\n",
    "    for i in range(4):\n",
    "        sum_sq = sum_sq - x[i]**2\n",
    "    return sum_sq\n",
    "x0 = [1,5,5,1]\n",
    "print(objective(x0))"
   ]
  },
  {
   "cell_type": "code",
   "execution_count": 20,
   "metadata": {},
   "outputs": [
    {
     "name": "stdout",
     "output_type": "stream",
     "text": [
      "     fun: 17.01401724563517\n",
      "     jac: array([14.57227015,  1.37940764,  2.37940764,  9.56415057])\n",
      " message: 'Optimization terminated successfully.'\n",
      "    nfev: 30\n",
      "     nit: 5\n",
      "    njev: 5\n",
      "  status: 0\n",
      " success: True\n",
      "       x: array([1.        , 4.7429961 , 3.82115462, 1.37940765])\n"
     ]
    }
   ],
   "source": [
    "b = (1.0,5.0)\n",
    "bnds = (b,b,b,b)\n",
    "con1 = {'type': 'ineq','fun': constraint1}\n",
    "con2 = {'type': 'eq','fun': constraint2}\n",
    "cons = [con1,con2]\n",
    "sol = minimize(objective,x0,method='SLSQP',\n",
    "               bounds=bnds,constraints=cons)\n",
    "print(sol)"
   ]
  },
  {
   "cell_type": "code",
   "execution_count": 21,
   "metadata": {},
   "outputs": [
    {
     "name": "stdout",
     "output_type": "stream",
     "text": [
      "17.01401724563517\n"
     ]
    }
   ],
   "source": [
    "print(sol.fun)"
   ]
  },
  {
   "cell_type": "markdown",
   "metadata": {},
   "source": [
    "$$ ejercicio·numero·2 $$"
   ]
  },
  {
   "cell_type": "code",
   "execution_count": 11,
   "metadata": {},
   "outputs": [
    {
     "name": "stdout",
     "output_type": "stream",
     "text": [
      "\n",
      "ejecución:\n",
      "     fun: 2.0499154720234642\n",
      "     jac: array([-3.48747939,  5.49674535])\n",
      " message: 'Optimization terminated successfully.'\n",
      "    nfev: 25\n",
      "     nit: 6\n",
      "    njev: 6\n",
      "  status: 0\n",
      " success: True\n",
      "       x: array([1.26089314, 2.00463288])\n",
      "\n",
      "Solución:\n",
      "X1 = 1.2609\n",
      "X2 = 2.0046\n",
      "solución total: 2.0499\n"
     ]
    }
   ],
   "source": [
    "# Minimizar: f = -(2*x1*x2 + 2*x1 - x1^2 - 2*x2^2)\n",
    "# Restricciones:\n",
    "# 1) x1^3 - x2 = 0\n",
    "# 2) x2 - (x1 - 1)^4 - 2 >= 0\n",
    "# Límites x1: 0.5 <= x1 <= 1.5\n",
    "# Límites x2: 1.5 <= x2 <= 2.5\n",
    "# Semilla inicial: (0, 2.5)\n",
    "from scipy.optimize import minimize as mini\n",
    "\n",
    "#Entradas\n",
    "limitesX0 = (0.5, 1.5)\n",
    "limitesX1 = (1.5, 2.5)\n",
    "semilla = [0, 2.5]\n",
    "\n",
    "def f(x):\n",
    "    funcion = 2*x[0]*x[1] + 2*x[0] - x[0]**2 - 2*(x[1]**2)\n",
    "    return (-funcion)\n",
    "\n",
    "def restriccion1(x):\n",
    "    return (x[0]**3 - x[1])\n",
    "\n",
    "def restriccion2(x):\n",
    "    return (x[1] - (x[0] - 1)**4 - 2)\n",
    "\n",
    "restricciones = [{'type': 'eq', 'fun': restriccion1},\n",
    "                 {'type': 'ineq', 'fun': restriccion2}]\n",
    "limites = (limitesX0, limitesX1)\n",
    "\n",
    "solucion = mini(f, semilla, method='SLSQP', bounds = limites, constraints = restricciones)\n",
    "\n",
    "print()\n",
    "print('ejecución:')\n",
    "print(solucion)\n",
    "print()\n",
    "\n",
    "print('Solución:')\n",
    "print('X1 = {:.4f}'.format(solucion.x[0]))\n",
    "print('X2 = {:.4f}'.format(solucion.x[1]))\n",
    "print('solución total: {:.4f}'.format(solucion.fun))"
   ]
  },
  {
   "cell_type": "markdown",
   "metadata": {},
   "source": [
    "                               .ejercicio numero 3 optimize con linprog ."
   ]
  },
  {
   "cell_type": "code",
   "execution_count": 18,
   "metadata": {},
   "outputs": [
    {
     "name": "stdout",
     "output_type": "stream",
     "text": [
      "\n",
      "ejecución:\n",
      "     con: array([], dtype=float64)\n",
      "     fun: -66.45161290322581\n",
      " message: 'Optimization terminated successfully.'\n",
      "     nit: 2\n",
      "   slack: array([0., 0.])\n",
      "  status: 0\n",
      " success: True\n",
      "       x: array([30.96774194, 35.48387097])\n",
      "\n",
      "Solución:\n",
      "X = 30.9677\n",
      "Y = 35.4839\n",
      "solución total: 66.4516\n"
     ]
    }
   ],
   "source": [
    "# Maximizar: f = x + y\n",
    "# Restricciones:\n",
    "# 1) 50x + 24y <= 2400\n",
    "# 2) 30x + 33y <= 2100\n",
    "# Límites: x, y <= 0\n",
    "import numpy as np\n",
    "from scipy.optimize import linprog as lp\n",
    "#coeficientes de la función\n",
    "cFuncionMin = [1, 1] \n",
    "\n",
    "aRestricciones = [[50, 24], [30, 33]] \n",
    "bRestricciones = [2400, 2100]\n",
    "\n",
    "limitesX = (0, None)\n",
    "limitesY = (0, None)\n",
    "\n",
    "cFuncionMax = -np.array(cFuncionMin) # Maximización \n",
    "limites = (limitesX, limitesY) \n",
    "\n",
    "# en vez de  ocurrir una minimización, sucede una maximización\n",
    "solucion = lp(cFuncionMax, A_ub = aRestricciones, b_ub = bRestricciones, bounds = limites)\n",
    "funcionReal = - solucion.fun\n",
    "\n",
    "print()\n",
    "print('ejecución:')\n",
    "print(solucion)\n",
    "print()\n",
    "\n",
    "print('Solución:')\n",
    "print('X = {:.4f}'.format(solucion.x[0]))\n",
    "print('Y = {:.4f}'.format(solucion.x[1]))\n",
    "print('solución total: {:.4f}'.format(funcionReal))"
   ]
  },
  {
   "cell_type": "markdown",
   "metadata": {},
   "source": [
    "                                .ejercicio numero 4.retorno de venta (ingreso, utilidad)."
   ]
  },
  {
   "cell_type": "code",
   "execution_count": 38,
   "metadata": {},
   "outputs": [
    {
     "name": "stdout",
     "output_type": "stream",
     "text": [
      "\n",
      "Tiempo:\n",
      "[ 1  2  3  4  5  6  7  8  9 10]\n",
      "\n",
      "Semilla de Demanda:\n",
      "[ 1.99  7.68  9.96 17.52 13.27  3.44  8.27  5.58  8.32  1.98]\n",
      "Suma Semilla Demanda: 78.01\n",
      "\n",
      "promedio de demanda por productos (Hora): \n",
      "[20 20 20 20 20 20 20 20 20 20]\n",
      "Demanda Óptima de Productos  Hora: \n",
      "[ 8.  8.  8. 16.  8.  8.  8.  8.  8.  8.]\n",
      "\n",
      "Precio Estimado de Productos por Hora (para Demanda Óptima):\n",
      "[3636.39 3333.16 3077.33    0.   2666.3  2499.85 2352.98 2221.7  2105.32\n",
      " 2000.12]\n",
      "\n",
      "Total de ingresos: $191149.70\n"
     ]
    }
   ],
   "source": [
    "\n",
    "from scipy.optimize import minimize as mini\n",
    "import numpy as np\n",
    "\n",
    "# Limitar número de decimales en impresión de arreglos\n",
    "np.set_printoptions(precision = 2, suppress = True)\n",
    "\n",
    "# entradas\n",
    "tiempoTotal = 10 # Total Horas\n",
    "factorEscala = 10000# Factor para que el resultado sea de orden 1, facilitando convergencia\n",
    "A = 8000 # Precio máximo\n",
    "B = 500 # Rebaja en precio según demanda\n",
    "D = 10 # Término para disminución del precio a medida que avanza el tiempo\n",
    "s0 = 200 # Inventario total\n",
    "\n",
    "def precios(x):\n",
    "    # Variables globales\n",
    "    global A, B, D, arregloTiempo\n",
    "    \n",
    "    # arreglo precios\n",
    "    listaPrecios = []\n",
    "    \n",
    "    # Ciclo para calcular precio en cada intervalo de tiempo\n",
    "    for (indice, tiempo) in enumerate(arregloTiempo):\n",
    "        precio = (A - B * x[indice]) * (D / (D + tiempo))\n",
    "        # Agregar precio en arreglo sólo si no es negativo\n",
    "        if (precio >= 0): listaPrecios.append(precio)\n",
    "        else: listaPrecios.append(0)\n",
    "    \n",
    "    return (np.array(listaPrecios))\n",
    "\n",
    "# Función a optimizar: Ingreso\n",
    "def ingreso(x):\n",
    "    producto = np.dot(precios(x), x) # Ingresos: Precio * Demanda\n",
    "    return (- producto / factorEscala) # Maximizar en lugar de minimizar\n",
    "\n",
    "# Restricciones\n",
    "def restriccionInventario(x):\n",
    "    global s0\n",
    "    return (s0 - np.sum(x))\n",
    "\n",
    "arregloTiempo = np.arange(1, tiempoTotal + 1) # N° Hora\n",
    "\n",
    "# Semilla de demanda (Aleatorio: Entre 0 y promedio)\n",
    "promedioDemanda = (s0 // tiempoTotal)\n",
    "x0 = np.random.rand(tiempoTotal) * promedioDemanda\n",
    "xPromedio = np.full(tiempoTotal, promedioDemanda)\n",
    "\n",
    "# Restricciones\n",
    "restricciones = [{'type': 'ineq', 'fun': restriccionInventario}]\n",
    "# Límites\n",
    "limiteInferior = 0\n",
    "limiteSuperior = A / B\n",
    "limites = [(limiteInferior, limiteSuperior) for i in range(tiempoTotal)]\n",
    "\n",
    "soluciones = mini(ingreso, x0, method='SLSQP', bounds = limites, constraints = restricciones)\n",
    "ingresoTotal = - ingreso(soluciones.x) * factorEscala\n",
    "\n",
    "print()\n",
    "print('Tiempo:')# hora\n",
    "print(arregloTiempo)\n",
    "print()\n",
    "\n",
    "# semilla de demanda:\n",
    "print('Semilla de Demanda:')\n",
    "print(x0)\n",
    "print('Suma Semilla Demanda: {:.2f}'.format(np.sum(x0)))\n",
    "print()\n",
    "\n",
    "# demanda de Productos por hora\n",
    "print('promedio de demanda por productos (Hora): ')\n",
    "print(xPromedio)\n",
    "print('Demanda Óptima de Productos  Hora: ')\n",
    "print(soluciones.x)\n",
    "print()\n",
    "\n",
    "# Arreglo de precio de productos por hora\n",
    "print('Precio Estimado de Productos por Hora (para Demanda Óptima):')\n",
    "print(precios(soluciones.x))\n",
    "print()\n",
    "\n",
    "# Ingreso total\n",
    "print('Total de ingresos: ${:.2f}'.format(ingresoTotal))\n"
   ]
  },
  {
   "cell_type": "markdown",
   "metadata": {},
   "source": [
    "$$ tarea·programacion·funcional $$"
   ]
  },
  {
   "cell_type": "markdown",
   "metadata": {},
   "source": [
    "$$ cual·es·la·suma·de·los·50·primeros·numeros·positivos·cuyo·cuadrado·es·divisible·por·5 $$"
   ]
  },
  {
   "cell_type": "code",
   "execution_count": 26,
   "metadata": {},
   "outputs": [
    {
     "name": "stdout",
     "output_type": "stream",
     "text": [
      " 0 5 10 15 20 25 30 35 40 45 50 55 60 65 70 75 80 85 90 95 100 105 110 115 120 125 130 135 140 145 150 155 160 165 170 175 180 185 190 195 200 205 210 215 220 225 230 235 240 245\n",
      "la suma es:6125\n"
     ]
    }
   ],
   "source": [
    "sum,cad=0,\"\"\n",
    "for i in range(0,250,5):\n",
    " cad=cad+\" \"+str(i)\n",
    " sum = sum+i\n",
    "print(cad)\n",
    "\n",
    "print(\"la suma es:\"+str(sum))"
   ]
  },
  {
   "cell_type": "markdown",
   "metadata": {},
   "source": [
    "$$ los·numeros·palindronos·del·1·al.1000·son $$"
   ]
  },
  {
   "cell_type": "code",
   "execution_count": 29,
   "metadata": {},
   "outputs": [
    {
     "name": "stdout",
     "output_type": "stream",
     "text": [
      "ingrese el limite inferior: 1\n",
      "ingrese el limite superior: 1000\n",
      "los numeros palindronos son:  [1, 3, 5, 7, 9, 11, 33, 55, 77, 99, 101, 111, 121, 131, 141, 151, 161, 171, 181, 191, 303, 313, 323, 333, 343, 353, 363, 373, 383, 393, 505, 515, 525, 535, 545, 555, 565, 575, 585, 595, 707, 717, 727, 737, 747, 757, 767, 777, 787, 797, 909, 919, 929, 939, 949, 959, 969, 979, 989, 999]\n"
     ]
    }
   ],
   "source": [
    "a=[]\n",
    "l=int(input(\"ingrese el limite inferior: \"))\n",
    "u=int(input(\"ingrese el limite superior: \"))\n",
    "a=[x for x in range(l,u+1) if x%2!=0 and str(x)==str(x)[::-1]]# Usando la comprensión de la lista, los números que son impares (determinados usando el operador del módulo) y que son palíndromos (determinados usando el corte de cuerdas) se almacenan en una lista.\n",
    "print(\"los numeros palindronos son: \",a)"
   ]
  },
  {
   "cell_type": "markdown",
   "metadata": {},
   "source": [
    "                               ··cuantas veces se repite la palabra python .."
   ]
  },
  {
   "cell_type": "code",
   "execution_count": 30,
   "metadata": {},
   "outputs": [
    {
     "name": "stdout",
     "output_type": "stream",
     "text": [
      "la palabra 'Python' se repite: 5 veces\n"
     ]
    }
   ],
   "source": [
    "from functools import partial\n",
    "from functools import reduce\n",
    "\n",
    "lista = [\"We are learning Python\", \n",
    "         \"Functional programming in Python\", \n",
    "         \"What are this Python functions for?\", \n",
    "         \"Do we really need Python?\", \n",
    "         \"Python rulez!\"]\n",
    "\n",
    "def contarPalabra(palabra, texto):\n",
    "    return (texto.count(palabra))\n",
    "\n",
    "contarPython = partial(contarPalabra, \"Python\")\n",
    "\n",
    "# suma de elementos iguales en la lista\n",
    "def sumar(n1, n2):\n",
    "    return (n1 + n2)\n",
    "\n",
    "\n",
    "listaConteo = list(map(contarPython, lista))\n",
    "\n",
    "# Total de elementos de la lista anterior\n",
    "conteoFinal = reduce(sumar, listaConteo)\n",
    "\n",
    "print(\"la palabra 'Python' se repite: {0} veces\".format(conteoFinal))"
   ]
  },
  {
   "cell_type": "markdown",
   "metadata": {},
   "source": [
    "             .Dados tres enteros que  (X, Y, Z) y dado un número N; imprima todas las posibles coordenadas.\n",
    "                                     dimensiones del tetrahedro"
   ]
  },
  {
   "cell_type": "code",
   "execution_count": 39,
   "metadata": {},
   "outputs": [
    {
     "name": "stdout",
     "output_type": "stream",
     "text": [
      "[(0, 0, 0), (0, 0, 1), (0, 0, 2), (0, 0, 3), (0, 1, 0), (0, 1, 1), (0, 1, 2), (0, 2, 0), (0, 2, 1), (0, 2, 3), (1, 0, 0), (1, 0, 1), (1, 0, 2), (1, 1, 0), (1, 1, 1), (1, 1, 3), (1, 2, 0), (1, 2, 2), (1, 2, 3)]\n"
     ]
    }
   ],
   "source": [
    "# Dados tres enteros (X, Y, Z) y dado un número N; imprima todas las posibles \n",
    "#coordenadas dadas por (i,j,k) en una cuadrícula tridimensional donde\n",
    "# la suma de (i + j + k) no es igual a N. \n",
    "# De modo que: 0 ≤ i ≤ X; 0 ≤ j ≤ Y; 0 ≤ k ≤ Z\n",
    "\n",
    "# Parámetros\n",
    "X = 1\n",
    "Y = 2\n",
    "Z = 3\n",
    "N = 4\n",
    "\n",
    "def imprimir(lista):\n",
    "    print()\n",
    "    print('Total coordenadas: {0}'.format(len(lista)))\n",
    "    for valor in lista:\n",
    "        print(valor)\n",
    "\n",
    "lista = [(i, j, k) for i in range(X + 1) for j in range(Y + 1) for k in range(Z + 1)\n",
    "         if (i + j + k != N)]\n",
    "print(lista)"
   ]
  },
  {
   "cell_type": "markdown",
   "metadata": {},
   "source": [
    "                                        . tarea pandas movies."
   ]
  },
  {
   "cell_type": "code",
   "execution_count": null,
   "metadata": {},
   "outputs": [],
   "source": [
    "import pandas as pd\n",
    "import numpy as np\n",
    "movies = pd.read_csv('movies.csv')\n",
    "ratings = pd.read_csv('ratings.csv')\n",
    "print(movies)\n",
    "print(ratings)"
   ]
  },
  {
   "cell_type": "code",
   "execution_count": null,
   "metadata": {},
   "outputs": [],
   "source": [
    "# aqui se juntan las dos tablas y  solo muestra los 10 primeros datos\n",
    "merguer_ratings_movies = pd.merge(movies, ratings)\n",
    "print('#mergue tables movies + ratings by movies_id field \\n%s' % merguer_ratings_movies[:20])"
   ]
  },
  {
   "cell_type": "code",
   "execution_count": null,
   "metadata": {},
   "outputs": [],
   "source": [
    "# Merge data\n",
    "mergeRatings = pd.merge(movies,ratings)\n",
    "\n",
    "# Clone DataFrame\n",
    "def cloneDF(df):\n",
    "    return pd.DataFrame(df.values.copy(), df.index.copy(), df.columns.copy()).convert_objects(convert_numeric=True)\n",
    "\n",
    "# Show Films with more votes. (groupby + sorted)\n",
    "numberRatings = cloneDF(mergeRatings)\n",
    "numberRatings = numberRatings.groupby('title').size().sort_values(ascending=False)#groupy permite agrupar la columna que se indique\n",
    "print ('Peliculas mas votadas: \\n%s' % numberRatings[:20])"
   ]
  },
  {
   "cell_type": "code",
   "execution_count": null,
   "metadata": {},
   "outputs": [],
   "source": [
    "# Clone DataFrame\n",
    "def cloneDF(df):\n",
    "    return pd.DataFrame(df.values.copy(), df.index.copy(), df.columns.copy()).convert_objects(convert_numeric=True)"
   ]
  },
  {
   "cell_type": "code",
   "execution_count": null,
   "metadata": {},
   "outputs": [],
   "source": [
    "# ver el valor medio del rating(groupby + avg)\n",
    "avgRatings = cloneDF(mergeRatings)\n",
    "avgRatings = avgRatings.groupby(['movieId', 'title']).mean()#al alicar \"mean\" calcula todas las medias de las columnas\n",
    "print ('Avg ratings: \\n%s' % avgRatings['rating'][:20])"
   ]
  },
  {
   "cell_type": "code",
   "execution_count": null,
   "metadata": {},
   "outputs": [],
   "source": [
    "# ver clasificación de datos de peliculas (groupby + several funtions)#agrupa por titulo e identificador\n",
    "dataRatings = cloneDF(mergeRatings)\n",
    "dataRatings = dataRatings.groupby(['movieId', 'title'])['rating'].agg(['mean', 'sum', 'count', 'std'])\n",
    "print ('Información de calificacìon de peliculas: \\n%s' % dataRatings[:20])"
   ]
  },
  {
   "cell_type": "code",
   "execution_count": null,
   "metadata": {},
   "outputs": [],
   "source": [
    "# Agrupar por titulo e identificador (groupby + lambda function + sorted)\"calcula el # de votos y la nota media\",ordena peliculas por el numero de votos\n",
    "# ver la nota media de las peliculas mas votadas\n",
    "sortRatingsField = cloneDF(mergeRatings)\n",
    "sortRatingsField = sortRatingsField.groupby(['movieId', 'title'])['rating'].agg(\n",
    "    {'COUNT': np.size, 'myAVG': lambda x: x.sum() / float(x.count())}).sort_values('COUNT', ascending=False)\n",
    "print ('Mi información ordenada: \\n%s' % sortRatingsField[:20]) "
   ]
  },
  {
   "cell_type": "code",
   "execution_count": null,
   "metadata": {},
   "outputs": [],
   "source": [
    "# Clone DataFrame\n",
    "def cloneDF(df):\n",
    "    return pd.DataFrame(df.values.copy(), df.index.copy(), df.columns.copy()).convert_objects(convert_numeric=True)\n"
   ]
  },
  {
   "cell_type": "code",
   "execution_count": null,
   "metadata": {},
   "outputs": [],
   "source": [
    "# Clone DataFrame\n",
    "def cloneDF(df):\n",
    "    return pd.DataFrame(df.values.copy(), df.index.copy(), df.columns.copy()).convert_objects(convert_numeric=True)\n"
   ]
  },
  {
   "cell_type": "code",
   "execution_count": null,
   "metadata": {},
   "outputs": [],
   "source": [
    "# Clone DataFrame\n",
    "def cloneDF(df):\n",
    "    return pd.DataFrame(df.values.copy(), df.index.copy(), df.columns.copy()).convert_objects(convert_numeric=True)"
   ]
  },
  {
   "cell_type": "code",
   "execution_count": null,
   "metadata": {},
   "outputs": [],
   "source": []
  }
 ],
 "metadata": {
  "kernelspec": {
   "display_name": "Python 3",
   "language": "python",
   "name": "python3"
  },
  "language_info": {
   "codemirror_mode": {
    "name": "ipython",
    "version": 3
   },
   "file_extension": ".py",
   "mimetype": "text/x-python",
   "name": "python",
   "nbconvert_exporter": "python",
   "pygments_lexer": "ipython3",
   "version": "3.7.3"
  }
 },
 "nbformat": 4,
 "nbformat_minor": 2
}
